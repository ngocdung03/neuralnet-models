{
 "cells": [
  {
   "cell_type": "code",
   "execution_count": 4,
   "metadata": {},
   "outputs": [],
   "source": [
    "import time\n",
    "import numpy as np\n",
    "import torch\n",
    "import torch.nn.functional as F\n",
    "from torch.utils.data import DataLoader\n",
    "from torchvision import datasets\n",
    "from torchvision import transforms"
   ]
  },
  {
   "cell_type": "code",
   "execution_count": 6,
   "metadata": {},
   "outputs": [
    {
     "name": "stdout",
     "output_type": "stream",
     "text": [
      "Image batch dimensions: torch.Size([128, 1, 28, 28])\n",
      "Image label dimensions: torch.Size([128])\n"
     ]
    }
   ],
   "source": [
    "random_seed = 123\n",
    "learning_rate = 0.01\n",
    "num_epochs = 10\n",
    "batch_size = 128\n",
    "\n",
    "# Architecture\n",
    "num_classes = 10\n",
    "# Load dataset\n",
    "# Note transforms.ToTensor() scales input images\n",
    "# to 0-1 range\n",
    "train_dataset = datasets.MNIST(root='data', \n",
    "                               train=True, \n",
    "                               transform=transforms.ToTensor(),\n",
    "                               download=True)\n",
    "\n",
    "test_dataset = datasets.MNIST(root='data', \n",
    "                              train=False, \n",
    "                              transform=transforms.ToTensor())\n",
    "\n",
    "\n",
    "train_loader = DataLoader(dataset=train_dataset, \n",
    "                          batch_size=batch_size, \n",
    "                          shuffle=True)\n",
    "\n",
    "test_loader = DataLoader(dataset=test_dataset, \n",
    "                         batch_size=batch_size, \n",
    "                         shuffle=False)\n",
    "# Checking the dataset\n",
    "for images, labels in train_loader:  \n",
    "    print('Image batch dimensions:', images.shape)\n",
    "    print('Image label dimensions:', labels.shape)\n",
    "    break"
   ]
  },
  {
   "cell_type": "code",
   "execution_count": null,
   "metadata": {},
   "outputs": [],
   "source": [
    "class ConvNet(torch.nn.Module):\n",
    "    def __init__(self, num_classes):\n",
    "        super().__init__()  #param for super()?\n",
    "        # Block 1\n",
    "        self.conv1 = torch.nn.Conv2d(in_channels=1,\n",
    "                                     out_channels=4,\n",
    "                                     kernel_size=(1,1),  #keep size?\n",
    "                                     stride=(1,1),\n",
    "                                     padding=0)\n",
    "        self.bn1 = torch.nn.BatchNorm2d(4)  #size of output\n",
    "        \n",
    "        self.conv2 = torch.nn.Conv2d(in_channels=4,\n",
    "                                     out_channels=1,\n",
    "                                     kernel_size=(,),  #? why change here\n",
    "                                     stride=(1,1),\n",
    "                                     padding=)   #?\n",
    "        self.bn2 = torch.nn.BatchNorm2d(1) \n",
    "        \n",
    "        # Block 2\n",
    "        self.conv3 = torch.nn.Conv2d(in_channels=1,\n",
    "                                     out_channels=4,\n",
    "                                     kernel_size=(1,1),  #keep size?\n",
    "                                     stride=(1,1),\n",
    "                                     padding=0)\n",
    "        self.bn3 = torch.nn.BatchNorm2d(4)  #size of output\n",
    "        \n",
    "        self.conv4 = torch.nn.Conv2d(in_channels=4,\n",
    "                                     out_channels=1,\n",
    "                                     kernel_size=(,),  #? why change here\n",
    "                                     stride=(1,1),\n",
    "                                     padding=)   #?\n",
    "        self.bn4 = torch.nn.BatchNorm2d(1) \n",
    "        \n",
    "        # Fully connected\n",
    "        self.linear_1 = torch.nn.Linear(28*28*1, num_classes)\n",
    "        \n",
    "        def forward(self, x):\n",
    "            shortcut = x\n",
    "            out = self.conv1(x)\n",
    "            out = self.bn1(out)\n",
    "            out = F.ReLU(out)\n",
    "            out = self.conv2(x)\n",
    "            out = self.bn2(out)\n",
    "            out += shortcut\n",
    "            out = F.ReLU(out)\n",
    "            \n",
    "            shorcut = out\n",
    "            out = self.conv3(x)\n",
    "            out = self.bn3(out)\n",
    "            out = F.ReLU(out)\n",
    "            out = self.conv4(x)\n",
    "            out = self.bn4(out)\n",
    "            out += shortcut\n",
    "            out = F.ReLU(out)\n",
    "            \n",
    "            # FC\n",
    "            out = \n",
    "            "
   ]
  }
 ],
 "metadata": {
  "interpreter": {
   "hash": "ad2293c144a8c5a706478cbaae30486637301c8d7e31ac5edf5719fc0346f251"
  },
  "kernelspec": {
   "display_name": "Python 3.9.7 ('base')",
   "language": "python",
   "name": "python3"
  },
  "language_info": {
   "codemirror_mode": {
    "name": "ipython",
    "version": 3
   },
   "file_extension": ".py",
   "mimetype": "text/x-python",
   "name": "python",
   "nbconvert_exporter": "python",
   "pygments_lexer": "ipython3",
   "version": "3.9.7"
  },
  "orig_nbformat": 4
 },
 "nbformat": 4,
 "nbformat_minor": 2
}
